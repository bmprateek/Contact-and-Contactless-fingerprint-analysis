{
 "cells": [
  {
   "cell_type": "code",
   "execution_count": 1,
   "metadata": {},
   "outputs": [],
   "source": [
    "filename = \"rdm.png\""
   ]
  },
  {
   "cell_type": "code",
   "execution_count": 2,
   "metadata": {},
   "outputs": [],
   "source": [
    "import cv2\n",
    "import numpy as np\n",
    "\n",
    "\n",
    "def segment_fingerprint(image_path):\n",
    "    # Load the image\n",
    "    img = cv2.imread(image_path)\n",
    "    # Convert the image to grayscale\n",
    "    gray = cv2.cvtColor(img, cv2.COLOR_BGR2GRAY)\n",
    "    # Apply Gaussian blur to reduce noise\n",
    "    blurred = cv2.GaussianBlur(gray, (5, 5), 0)\n",
    "    # Apply Otsu's thresholding to binarize the image\n",
    "    _, thresholded = cv2.threshold(blurred, 0, 255, cv2.THRESH_BINARY + cv2.THRESH_OTSU)\n",
    "    # Find the contours in the binary image\n",
    "    contours, _ = cv2.findContours(thresholded, cv2.RETR_TREE, cv2.CHAIN_APPROX_SIMPLE)\n",
    "    # Select the contour with the largest area as the fingerprint region\n",
    "    fingerprint_contour = max(contours, key=cv2.contourArea)\n",
    "    # Create a mask from the fingerprint contour\n",
    "    mask = np.zeros(gray.shape, dtype=np.uint8)\n",
    "    cv2.drawContours(mask, [fingerprint_contour], 0, 255, -1)\n",
    "    # Apply the mask to the original image to extract the fingerprint region\n",
    "    fingerprint = cv2.bitwise_and(img, img, mask=mask)\n",
    "    # Convert the fingerprint region to grayscale\n",
    "    fingerprint_gray = cv2.cvtColor(fingerprint, cv2.COLOR_BGR2GRAY)\n",
    "    # Return the extracted fingerprint\n",
    "    \n",
    "    cv2.imwrite(f\"pre/{filename}\" , fingerprint_gray)\n",
    "    return fingerprint_gray\n",
    "\n",
    "pre = segment_fingerprint(f\"contact-pre/{filename}\")\n"
   ]
  },
  {
   "cell_type": "code",
   "execution_count": 3,
   "metadata": {},
   "outputs": [],
   "source": [
    "def highlight_cretases(fingerprint):\n",
    "    # Apply a Gabor filter to the fingerprint to enhance the ridges\n",
    "    ksize = 1\n",
    "    sigma = 2.0\n",
    "    theta = np.pi / 4\n",
    "    lambd = 10.0\n",
    "    gamma = 0.5\n",
    "    gabor_kernel = cv2.getGaborKernel((ksize, ksize), sigma, theta, lambd, gamma, 0, cv2.CV_32F)\n",
    "    filtered_fingerprint = cv2.filter2D(fingerprint, cv2.CV_8UC3, gabor_kernel)\n",
    "    # Apply adaptive thresholding to binarize the filtered image\n",
    "    binarized_fingerprint = cv2.adaptiveThreshold(filtered_fingerprint, 255, cv2.ADAPTIVE_THRESH_MEAN_C, cv2.THRESH_BINARY_INV, 11, 2)\n",
    "    # Return the binarized fingerprint\n",
    "    cv2.imwrite(f\"post/{filename}\" , binarized_fingerprint)\n",
    "    return binarized_fingerprint\n",
    "post = highlight_cretases(pre)"
   ]
  },
  {
   "cell_type": "code",
   "execution_count": 4,
   "metadata": {},
   "outputs": [
    {
     "data": {
      "text/plain": [
       "(232, 236)"
      ]
     },
     "execution_count": 4,
     "metadata": {},
     "output_type": "execute_result"
    }
   ],
   "source": [
    "post.shape"
   ]
  },
  {
   "cell_type": "code",
   "execution_count": 8,
   "metadata": {},
   "outputs": [
    {
     "data": {
      "text/plain": [
       "[array([[  0,   0,   0, ...,   0,   0,   0],\n",
       "        [  0,   0, 255, ...,   0,   0,   0],\n",
       "        [  0, 255, 255, ...,   0, 255,   0],\n",
       "        ...,\n",
       "        [255,   0,   0, ...,   0,   0,   0],\n",
       "        [  0,   0,   0, ...,   0, 255, 255],\n",
       "        [  0,   0, 255, ...,   0, 255, 255]], dtype=uint8),\n",
       " array([[  0,   0,   0, ...,   0,   0,   0],\n",
       "        [  0,   0,   0, ..., 255,   0,   0],\n",
       "        [  0, 255, 255, ..., 255, 255, 255],\n",
       "        ...,\n",
       "        [255, 255, 255, ..., 255, 255,   0],\n",
       "        [255, 255,   0, ..., 255, 255, 255],\n",
       "        [255,   0,   0, ..., 255, 255, 255]], dtype=uint8),\n",
       " array([[  0,   0, 255, ..., 255, 255,   0],\n",
       "        [  0,   0, 255, ..., 255, 255,   0],\n",
       "        [  0,   0,   0, ..., 255, 255, 255],\n",
       "        ...,\n",
       "        [  0,   0, 255, ...,   0,   0, 255],\n",
       "        [255,   0,   0, ...,   0,   0, 255],\n",
       "        [255,   0,   0, ...,   0,   0, 255]], dtype=uint8),\n",
       " array([[  0, 255, 255, ..., 255, 255, 255],\n",
       "        [  0, 255, 255, ..., 255, 255, 255],\n",
       "        [255, 255, 255, ..., 255, 255,   0],\n",
       "        ...,\n",
       "        [255, 255, 255, ...,   0, 255, 255],\n",
       "        [255, 255, 255, ...,   0, 255, 255],\n",
       "        [255, 255, 255, ...,   0,   0, 255]], dtype=uint8),\n",
       " array([[  0,   0,   0, ...,   0, 255, 255],\n",
       "        [  0,   0,   0, ...,   0, 255, 255],\n",
       "        [  0,   0, 255, ...,   0,   0, 255],\n",
       "        ...,\n",
       "        [255,   0,   0, ...,   0,   0, 255],\n",
       "        [255,   0,   0, ...,   0,   0, 255],\n",
       "        [255, 255,   0, ...,   0,   0,   0]], dtype=uint8),\n",
       " array([[255,   0,   0, ...,   0,   0,   0],\n",
       "        [255,   0,   0, ...,   0,   0,   0],\n",
       "        [255,   0,   0, ..., 255,   0,   0],\n",
       "        ...,\n",
       "        [255, 255,   0, ..., 255, 255, 255],\n",
       "        [255, 255, 255, ..., 255, 255, 255],\n",
       "        [255, 255, 255, ..., 255, 255, 255]], dtype=uint8),\n",
       " array([[255,   0, 255, ...,   0,   0, 255],\n",
       "        [  0, 255, 255, ..., 255,   0,   0],\n",
       "        [  0, 255, 255, ..., 255,   0,   0],\n",
       "        ...,\n",
       "        [255,   0,   0, ...,   0,   0, 255],\n",
       "        [255, 255, 255, ...,   0,   0,   0],\n",
       "        [255, 255, 255, ..., 255,   0,   0]], dtype=uint8),\n",
       " array([[255, 255, 255, ...,   0,   0,   0],\n",
       "        [255, 255, 255, ..., 255,   0,   0],\n",
       "        [255, 255, 255, ..., 255, 255,   0],\n",
       "        ...,\n",
       "        [255, 255, 255, ..., 255, 255,   0],\n",
       "        [255, 255, 255, ..., 255, 255, 255],\n",
       "        [  0, 255, 255, ..., 255, 255, 255]], dtype=uint8),\n",
       " array([[255, 255, 255, ..., 255, 255, 255],\n",
       "        [  0, 255, 255, ..., 255, 255, 255],\n",
       "        [  0,   0, 255, ...,   0, 255,   0],\n",
       "        ...,\n",
       "        [  0,   0,   0, ...,   0,   0,   0],\n",
       "        [  0,   0,   0, ...,   0,   0,   0],\n",
       "        [255, 255,   0, ...,   0,   0,   0]], dtype=uint8),\n",
       " array([[  0, 255, 255, ..., 255, 255,   0],\n",
       "        [  0,   0,   0, ..., 255, 255, 255],\n",
       "        [  0,   0,   0, ..., 255, 255, 255],\n",
       "        ...,\n",
       "        [  0,   0,   0, ...,   0,   0,   0],\n",
       "        [255, 255, 255, ..., 255, 255, 255],\n",
       "        [255, 255, 255, ..., 255, 255, 255]], dtype=uint8),\n",
       " array([[  0,   0, 255, ..., 255, 255, 255],\n",
       "        [  0,   0,   0, ...,   0,   0, 255],\n",
       "        [255,   0,   0, ...,   0,   0,   0],\n",
       "        ...,\n",
       "        [  0,   0,   0, ...,   0,   0,   0],\n",
       "        [255, 255, 255, ..., 255, 255, 255],\n",
       "        [255, 255, 255, ..., 255, 255, 255]], dtype=uint8),\n",
       " array([[255, 255, 255, ...,   0,   0,   0],\n",
       "        [255, 255, 255, ...,   0,   0,   0],\n",
       "        [255, 255, 255, ...,   0,   0,   0],\n",
       "        ...,\n",
       "        [  0,   0,   0, ...,   0,   0,   0],\n",
       "        [255, 255, 255, ..., 255, 255, 255],\n",
       "        [255, 255, 255, ..., 255, 255, 255]], dtype=uint8)]"
      ]
     },
     "execution_count": 8,
     "metadata": {},
     "output_type": "execute_result"
    }
   ],
   "source": [
    "def split_image(image):\n",
    "    # Get the dimensions of the input image\n",
    "    height, width = image.shape\n",
    "    # Calculate the size of the center region\n",
    "    center_size = 40\n",
    "    # Calculate the position of the center region\n",
    "    center_x = int(width / 2 - center_size  ) \n",
    "    center_y = int(height / 2 - center_size  )\n",
    "\n",
    "    # Create an empty list to hold the sub-images\n",
    "    sub_images = []\n",
    "    n = 2\n",
    "    # Loop over the rows and columns\n",
    "    for i in range(5):\n",
    "        for j in range(3):\n",
    "            # Calculate the position of the sub-image\n",
    "            x = center_x + j * center_size\n",
    "            y = center_y + i * center_size\n",
    "            if x >= width or y>=height:\n",
    "                break\n",
    "            # Extract the sub-image from the input image\n",
    "            sub_image = image[y:y+center_size, x:x+center_size]\n",
    "            # Add the sub-image to the list\n",
    "            sub_images.append(sub_image)\n",
    "    # Return the list of sub-images\n",
    "    for i in range(len(sub_images)):\n",
    "        cv2.imwrite('contact-saved/' + str(i) + '.png' , sub_images[i])\n",
    "    return sub_images\n",
    "\n",
    "split_image(post)"
   ]
  },
  {
   "cell_type": "code",
   "execution_count": null,
   "metadata": {},
   "outputs": [],
   "source": []
  }
 ],
 "metadata": {
  "kernelspec": {
   "display_name": "Python 3",
   "language": "python",
   "name": "python3"
  },
  "language_info": {
   "codemirror_mode": {
    "name": "ipython",
    "version": 3
   },
   "file_extension": ".py",
   "mimetype": "text/x-python",
   "name": "python",
   "nbconvert_exporter": "python",
   "pygments_lexer": "ipython3",
   "version": "3.11.1"
  },
  "orig_nbformat": 4
 },
 "nbformat": 4,
 "nbformat_minor": 2
}
